{
  "nbformat": 4,
  "nbformat_minor": 0,
  "metadata": {
    "colab": {
      "name": "Untitled6.ipynb",
      "provenance": [],
      "collapsed_sections": []
    },
    "kernelspec": {
      "name": "python3",
      "display_name": "Python 3"
    },
    "language_info": {
      "name": "python"
    }
  },
  "cells": [
    {
      "cell_type": "code",
      "metadata": {
        "colab": {
          "base_uri": "https://localhost:8080/"
        },
        "id": "yiDrRF8kwJO8",
        "outputId": "81a4eb99-73b2-4efd-952d-220e206fdf11"
      },
      "source": [
        "# change the function parameters if you need \n",
        "def test(a, b):\n",
        "  # write your code below this line \n",
        "  x = int(a)\n",
        "  y = int(b)\n",
        "\n",
        "  \n",
        "  return  ((x+12)**2-y**3)//9   # write here the returned value of the function  \n",
        "  # Write your code above this line\n",
        "\n",
        "print(test(3,4))"
      ],
      "execution_count": 19,
      "outputs": [
        {
          "output_type": "stream",
          "text": [
            "17\n"
          ],
          "name": "stdout"
        }
      ]
    }
  ]
}