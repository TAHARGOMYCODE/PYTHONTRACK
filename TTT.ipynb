{
 "cells": [
  {
   "cell_type": "code",
   "execution_count": 1,
   "id": "f8605ef6-2c9d-48ac-ac28-5ef702c9ea19",
   "metadata": {},
   "outputs": [
    {
     "name": "stdout",
     "output_type": "stream",
     "text": [
      "Hello GOMYCODE\n"
     ]
    }
   ],
   "source": [
    "print(\"Hello GOMYCODE\")"
   ]
  },
  {
   "cell_type": "code",
   "execution_count": null,
   "id": "ab9932cc-933d-443e-91d9-aac98043b554",
   "metadata": {},
   "outputs": [],
   "source": []
  }
 ],
 "metadata": {
  "kernelspec": {
   "display_name": "Python 3",
   "language": "python",
   "name": "python3"
  },
  "language_info": {
   "codemirror_mode": {
    "name": "ipython",
    "version": 3
   },
   "file_extension": ".py",
   "mimetype": "text/x-python",
   "name": "python",
   "nbconvert_exporter": "python",
   "pygments_lexer": "ipython3",
   "version": "3.8.8"
  }
 },
 "nbformat": 4,
 "nbformat_minor": 5
}
